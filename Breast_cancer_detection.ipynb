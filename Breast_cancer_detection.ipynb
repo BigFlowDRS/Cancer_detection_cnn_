{
 "cells": [
  {
   "cell_type": "code",
   "execution_count": 24,
   "id": "9ec7e75c-5b3b-4114-97d5-d0ee1a17f61d",
   "metadata": {},
   "outputs": [],
   "source": [
    "import tensorflow.compat.v1 as tf\n",
    "tf.disable_v2_behavior()"
   ]
  },
  {
   "cell_type": "code",
   "execution_count": 25,
   "id": "99c13c5b-1540-4f9c-ab26-e4a48a9fda3d",
   "metadata": {},
   "outputs": [],
   "source": [
    "from IPython.core.interactiveshell import InteractiveShell\n",
    "InteractiveShell.ast_node_interactivity = 'all'"
   ]
  },
  {
   "cell_type": "code",
   "execution_count": 26,
   "id": "79f27b60-9004-4a2e-9c4e-b487536cb4c8",
   "metadata": {},
   "outputs": [],
   "source": [
    "import tensorflow as tf\n",
    "from tensorflow.keras import layers, models"
   ]
  },
  {
   "cell_type": "code",
   "execution_count": 27,
   "id": "b7b562a6-7d33-42b9-b92c-0f405f02e8b6",
   "metadata": {},
   "outputs": [],
   "source": [
    " import numpy as np"
   ]
  },
  {
   "cell_type": "code",
   "execution_count": 28,
   "id": "c3f4b37b-045e-44ef-95d9-2621e22c0744",
   "metadata": {},
   "outputs": [],
   "source": [
    "import matplotlib.pyplot as plt"
   ]
  },
  {
   "cell_type": "code",
   "execution_count": 29,
   "id": "a3268770-f2c1-4d5d-b58c-3b4c6851b98e",
   "metadata": {},
   "outputs": [],
   "source": [
    "image_data = np.load('X_train.npy')"
   ]
  },
  {
   "cell_type": "code",
   "execution_count": 30,
   "id": "e960dc70-a4f6-4125-b4bc-35329affb643",
   "metadata": {},
   "outputs": [],
   "source": [
    "image_data_normalized = image_data \n"
   ]
  },
  {
   "cell_type": "code",
   "execution_count": 63,
   "id": "bc88689c-61db-4c88-8d86-619e9794cf97",
   "metadata": {},
   "outputs": [
    {
     "data": {
      "text/plain": [
       "dtype('int64')"
      ]
     },
     "execution_count": 63,
     "metadata": {},
     "output_type": "execute_result"
    },
    {
     "data": {
      "text/plain": [
       "(4160,)"
      ]
     },
     "execution_count": 63,
     "metadata": {},
     "output_type": "execute_result"
    },
    {
     "name": "stdout",
     "output_type": "stream",
     "text": [
      "2087\n"
     ]
    }
   ],
   "source": [
    "marker = np.load('Y_train.npy')\n",
    "marker.dtype\n",
    "marker.shape\n",
    "num_ones = np.count_nonzero(marker == 1)\n",
    "print(num_ones)"
   ]
  },
  {
   "cell_type": "code",
   "execution_count": 35,
   "id": "80023da5-a4b3-438e-8db3-483eccbca898",
   "metadata": {},
   "outputs": [],
   "source": [
    "from sklearn.model_selection import train_test_split\n",
    "X_train, X_temp, y_train, y_temp = train_test_split(image_data_normalized, marker, test_size=0.3, random_state=6)\n",
    "\n",
    "X_val, X_test, y_val, y_test = train_test_split(X_temp, y_temp, test_size=0.5, random_state=6)\n"
   ]
  },
  {
   "cell_type": "code",
   "execution_count": 36,
   "id": "d36ecb10-9574-44e1-90c3-6fd0af76e9d6",
   "metadata": {},
   "outputs": [
    {
     "data": {
      "text/plain": [
       "(2912, 50, 50, 3)"
      ]
     },
     "execution_count": 36,
     "metadata": {},
     "output_type": "execute_result"
    },
    {
     "data": {
      "text/plain": [
       "(624, 50, 50, 3)"
      ]
     },
     "execution_count": 36,
     "metadata": {},
     "output_type": "execute_result"
    },
    {
     "data": {
      "text/plain": [
       "(624, 50, 50, 3)"
      ]
     },
     "execution_count": 36,
     "metadata": {},
     "output_type": "execute_result"
    }
   ],
   "source": [
    "X_train.shape\n",
    "X_val.shape\n",
    "X_test.shape"
   ]
  },
  {
   "cell_type": "code",
   "execution_count": 37,
   "id": "5446504f-3d7d-4162-b6d9-0cf61e46d79f",
   "metadata": {},
   "outputs": [],
   "source": [
    "from tensorflow.keras.models import Sequential\n",
    "from tensorflow.keras.layers import Conv2D, MaxPooling2D, Dense, Flatten, Dropout\n",
    " "
   ]
  },
  {
   "cell_type": "code",
   "execution_count": 50,
   "id": "53a3b1c9-29bf-4480-9510-a34d299a09cd",
   "metadata": {},
   "outputs": [],
   "source": [
    "model = Sequential()"
   ]
  },
  {
   "cell_type": "code",
   "execution_count": 51,
   "id": "a6d55339-c522-49c9-b2e9-73ba4a358062",
   "metadata": {},
   "outputs": [],
   "source": [
    "model.add(Conv2D(32,(3,3), 1, activation='relu',input_shape = (50,50,3)))\n",
    "model.add(MaxPooling2D((2, 2)))\n",
    "model.add(Conv2D(64,(3,3), 1, activation='relu'))\n",
    "model.add(MaxPooling2D((2, 2)))\n",
    "model.add(Conv2D(128,(3,3), 1, activation='relu'))\n",
    "model.add(MaxPooling2D((2, 2)))\n",
    "\n",
    "model.add(Flatten())\n",
    "model.add(layers.Dropout(0.5))\n",
    "\n",
    "model.add(Dense(64,activation='relu'))\n",
    "model.add(Dense(1,activation='sigmoid'))\n",
    "# model.add(Dense(1,activation='sigmoid', bias_initializer=tf.keras.initializers.Constant(value=-12.00)))"
   ]
  },
  {
   "cell_type": "code",
   "execution_count": 52,
   "id": "959212f9-2c73-4f22-afc5-6a6d87d2622c",
   "metadata": {},
   "outputs": [],
   "source": [
    "from sklearn.utils.class_weight import compute_class_weight\n",
    "\n",
    "class_weights = compute_class_weight(class_weight='balanced', classes=np.unique(y_train), y=y_train)\n"
   ]
  },
  {
   "cell_type": "code",
   "execution_count": 53,
   "id": "1d42ed8d-6ecc-4b41-9927-045ffbd7821b",
   "metadata": {},
   "outputs": [
    {
     "name": "stdout",
     "output_type": "stream",
     "text": [
      "Model: \"sequential_3\"\n",
      "_________________________________________________________________\n",
      " Layer (type)                Output Shape              Param #   \n",
      "=================================================================\n",
      " conv2d_9 (Conv2D)           (None, 48, 48, 32)        896       \n",
      "                                                                 \n",
      " max_pooling2d_9 (MaxPoolin  (None, 24, 24, 32)        0         \n",
      " g2D)                                                            \n",
      "                                                                 \n",
      " conv2d_10 (Conv2D)          (None, 22, 22, 64)        18496     \n",
      "                                                                 \n",
      " max_pooling2d_10 (MaxPooli  (None, 11, 11, 64)        0         \n",
      " ng2D)                                                           \n",
      "                                                                 \n",
      " conv2d_11 (Conv2D)          (None, 9, 9, 128)         73856     \n",
      "                                                                 \n",
      " max_pooling2d_11 (MaxPooli  (None, 4, 4, 128)         0         \n",
      " ng2D)                                                           \n",
      "                                                                 \n",
      " flatten_3 (Flatten)         (None, 2048)              0         \n",
      "                                                                 \n",
      " dropout_3 (Dropout)         (None, 2048)              0         \n",
      "                                                                 \n",
      " dense_6 (Dense)             (None, 64)                131136    \n",
      "                                                                 \n",
      " dense_7 (Dense)             (None, 1)                 65        \n",
      "                                                                 \n",
      "=================================================================\n",
      "Total params: 224449 (876.75 KB)\n",
      "Trainable params: 224449 (876.75 KB)\n",
      "Non-trainable params: 0 (0.00 Byte)\n",
      "_________________________________________________________________\n"
     ]
    }
   ],
   "source": [
    "from keras import backend as K\n",
    "\n",
    "def weighted_binary_crossentropy(y_true, y_pred):\n",
    "    class_weights = tf.constant([1., 2.])\n",
    "    bce = K.binary_crossentropy(y_true, y_pred)\n",
    "    weighted_bce = K.mean(bce * class_weights)\n",
    "    return weighted_bce\n",
    "\n",
    "model.compile(optimizer='adam', loss='binary_crossentropy', metrics=['accuracy'])\n",
    "\n",
    "\n",
    "model.summary()"
   ]
  },
  {
   "cell_type": "code",
   "execution_count": 54,
   "id": "a234d0be-ad31-487d-b9db-e5dcf1299db1",
   "metadata": {},
   "outputs": [
    {
     "name": "stdout",
     "output_type": "stream",
     "text": [
      "Train on 2912 samples, validate on 624 samples\n",
      "Epoch 1/20\n",
      "2912/2912 [==============================] - ETA: 0s - loss: 2.3531 - acc: 0.5464"
     ]
    },
    {
     "name": "stderr",
     "output_type": "stream",
     "text": [
      "C:\\Users\\divya\\mlbasics\\sample_project_1\\env\\Lib\\site-packages\\keras\\src\\engine\\training_v1.py:2335: UserWarning: `Model.state_updates` will be removed in a future version. This property should not be used in TensorFlow 2.0, as `updates` are applied automatically.\n",
      "  updates = self.state_updates\n"
     ]
    },
    {
     "name": "stdout",
     "output_type": "stream",
     "text": [
      "2912/2912 [==============================] - 9s 3ms/sample - loss: 2.3531 - acc: 0.5464 - val_loss: 0.6578 - val_acc: 0.6250\n",
      "Epoch 2/20\n",
      "2912/2912 [==============================] - 9s 3ms/sample - loss: 0.6408 - acc: 0.6617 - val_loss: 0.6363 - val_acc: 0.6330\n",
      "Epoch 3/20\n",
      "2912/2912 [==============================] - 9s 3ms/sample - loss: 0.6249 - acc: 0.6727 - val_loss: 0.6605 - val_acc: 0.6170\n",
      "Epoch 4/20\n",
      "2912/2912 [==============================] - 9s 3ms/sample - loss: 0.6192 - acc: 0.6741 - val_loss: 0.6185 - val_acc: 0.6490\n",
      "Epoch 5/20\n",
      "2912/2912 [==============================] - 9s 3ms/sample - loss: 0.5892 - acc: 0.7012 - val_loss: 0.6014 - val_acc: 0.6875\n",
      "Epoch 6/20\n",
      "2912/2912 [==============================] - 9s 3ms/sample - loss: 0.6292 - acc: 0.6611 - val_loss: 0.6391 - val_acc: 0.6538\n",
      "Epoch 7/20\n",
      "2912/2912 [==============================] - 9s 3ms/sample - loss: 0.6012 - acc: 0.6988 - val_loss: 0.5957 - val_acc: 0.6939\n",
      "Epoch 8/20\n",
      "2912/2912 [==============================] - 9s 3ms/sample - loss: 0.5835 - acc: 0.7012 - val_loss: 0.6054 - val_acc: 0.6619\n",
      "Epoch 9/20\n",
      "2912/2912 [==============================] - 9s 3ms/sample - loss: 0.5729 - acc: 0.7301 - val_loss: 0.5773 - val_acc: 0.7083\n",
      "Epoch 10/20\n",
      "2912/2912 [==============================] - 9s 3ms/sample - loss: 0.6032 - acc: 0.6902 - val_loss: 0.5973 - val_acc: 0.7019\n",
      "Epoch 11/20\n",
      "2912/2912 [==============================] - 9s 3ms/sample - loss: 0.5866 - acc: 0.7098 - val_loss: 0.5832 - val_acc: 0.7051\n",
      "Epoch 12/20\n",
      "2912/2912 [==============================] - 9s 3ms/sample - loss: 0.5600 - acc: 0.7301 - val_loss: 0.6151 - val_acc: 0.6619\n",
      "Epoch 13/20\n",
      "2912/2912 [==============================] - 9s 3ms/sample - loss: 0.5440 - acc: 0.7383 - val_loss: 0.5784 - val_acc: 0.7244\n",
      "Epoch 14/20\n",
      "2912/2912 [==============================] - 9s 3ms/sample - loss: 0.5657 - acc: 0.7201 - val_loss: 0.5909 - val_acc: 0.6971\n",
      "Epoch 15/20\n",
      "2912/2912 [==============================] - 9s 3ms/sample - loss: 0.5499 - acc: 0.7359 - val_loss: 0.5821 - val_acc: 0.6955\n",
      "Epoch 16/20\n",
      "2912/2912 [==============================] - 9s 3ms/sample - loss: 0.5456 - acc: 0.7438 - val_loss: 0.5913 - val_acc: 0.6971\n",
      "Epoch 17/20\n",
      "2912/2912 [==============================] - 10s 3ms/sample - loss: 0.5210 - acc: 0.7603 - val_loss: 0.5859 - val_acc: 0.7003\n",
      "Epoch 18/20\n",
      "2912/2912 [==============================] - 10s 3ms/sample - loss: 0.5424 - acc: 0.7383 - val_loss: 0.5596 - val_acc: 0.7212\n",
      "Epoch 19/20\n",
      "2912/2912 [==============================] - 10s 3ms/sample - loss: 0.5393 - acc: 0.7363 - val_loss: 0.5634 - val_acc: 0.7420\n",
      "Epoch 20/20\n",
      "2912/2912 [==============================] - 10s 3ms/sample - loss: 0.5073 - acc: 0.7603 - val_loss: 0.5946 - val_acc: 0.7436\n"
     ]
    }
   ],
   "source": [
    "history = model.fit(X_train, y_train, epochs=20, validation_data=(X_val, y_val))"
   ]
  },
  {
   "cell_type": "code",
   "execution_count": 55,
   "id": "d63ae3b8-cc41-4a6e-95c1-688cb1e203a7",
   "metadata": {},
   "outputs": [
    {
     "name": "stdout",
     "output_type": "stream",
     "text": [
      "Test accuracy: 0.7307692\n"
     ]
    }
   ],
   "source": [
    "test_loss, test_acc = model.evaluate(X_test, y_test)\n",
    "\n",
    "print('Test accuracy:', test_acc)"
   ]
  },
  {
   "cell_type": "code",
   "execution_count": 56,
   "id": "9d0189fa-a204-41a7-9006-0ce8fbfb4463",
   "metadata": {},
   "outputs": [
    {
     "name": "stderr",
     "output_type": "stream",
     "text": [
      "C:\\Users\\divya\\mlbasics\\sample_project_1\\env\\Lib\\site-packages\\keras\\src\\engine\\training_v1.py:2359: UserWarning: `Model.state_updates` will be removed in a future version. This property should not be used in TensorFlow 2.0, as `updates` are applied automatically.\n",
      "  updates=self.state_updates,\n"
     ]
    },
    {
     "name": "stdout",
     "output_type": "stream",
     "text": [
      "0\n",
      "0.4700000000000003\n"
     ]
    }
   ],
   "source": [
    "x_test = np.load('X_test.npy')\n",
    "yp = model.predict(X_test)\n",
    "threshold = 0.1\n",
    "\n",
    "mn = 1000\n",
    "ans = 0.1\n",
    "\n",
    "for k in range(90):\n",
    "    a = 0\n",
    "    b = 0\n",
    "    rp = (yp > threshold).astype(int)\n",
    "    \n",
    "    for i in range(len(y_test)):\n",
    "        if y_test[i] != rp[i]:\n",
    "            if y_test[i] == 1:\n",
    "                a+=1\n",
    "            else:\n",
    "                b+=1\n",
    "\n",
    "    if(abs(a-b) < mn):\n",
    "        ans = threshold\n",
    "        mn = abs(a-b)\n",
    "\n",
    "    threshold+=0.01\n",
    "\n",
    "print(mn)\n",
    "print(ans)"
   ]
  },
  {
   "cell_type": "code",
   "execution_count": 57,
   "id": "6d147819-ee96-42b8-b1ab-8fe9a81184ba",
   "metadata": {},
   "outputs": [
    {
     "data": {
      "text/plain": [
       "(1387, 50, 50, 3)"
      ]
     },
     "execution_count": 57,
     "metadata": {},
     "output_type": "execute_result"
    },
    {
     "data": {
      "text/plain": [
       "(1387, 1)"
      ]
     },
     "execution_count": 57,
     "metadata": {},
     "output_type": "execute_result"
    }
   ],
   "source": [
    "predictions = model.predict(x_test)\n",
    "x_test.shape\n",
    "predictions.shape"
   ]
  },
  {
   "cell_type": "code",
   "execution_count": 58,
   "id": "dd4d6a14-5111-4b40-9d90-39ec4397346a",
   "metadata": {},
   "outputs": [
    {
     "data": {
      "text/plain": [
       "array([[0.10787905],\n",
       "       [0.8407686 ],\n",
       "       [0.1733684 ],\n",
       "       ...,\n",
       "       [0.10448074],\n",
       "       [0.45536417],\n",
       "       [0.7984514 ]], dtype=float32)"
      ]
     },
     "execution_count": 58,
     "metadata": {},
     "output_type": "execute_result"
    }
   ],
   "source": [
    "predictions"
   ]
  },
  {
   "cell_type": "code",
   "execution_count": 60,
   "id": "c6e7bc16-731f-4cee-9d43-689e3e6a76dd",
   "metadata": {},
   "outputs": [],
   "source": [
    "import pandas as pd\n",
    "threshold = 0.4700000  \n",
    "\n",
    "rounded_predictions = (predictions > threshold).astype(int)\n",
    "\n",
    "output_df = pd.DataFrame(rounded_predictions)\n",
    "\n",
    "output_df.to_csv('divyansh_sinha.csv', index=False)"
   ]
  },
  {
   "cell_type": "code",
   "execution_count": null,
   "id": "a6d94c47-a943-468a-a999-fbda78c0dc62",
   "metadata": {},
   "outputs": [],
   "source": []
  }
 ],
 "metadata": {
  "kernelspec": {
   "display_name": "Python 3 (ipykernel)",
   "language": "python",
   "name": "python3"
  },
  "language_info": {
   "codemirror_mode": {
    "name": "ipython",
    "version": 3
   },
   "file_extension": ".py",
   "mimetype": "text/x-python",
   "name": "python",
   "nbconvert_exporter": "python",
   "pygments_lexer": "ipython3",
   "version": "3.11.5"
  }
 },
 "nbformat": 4,
 "nbformat_minor": 5
}
